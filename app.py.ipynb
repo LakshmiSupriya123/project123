{
 "cells": [
  {
   "cell_type": "code",
   "execution_count": null,
   "id": "7401d452",
   "metadata": {},
   "outputs": [
    {
     "name": "stdout",
     "output_type": "stream",
     "text": [
      " * Serving Flask app \"__main__\" (lazy loading)\n",
      " * Environment: production\n",
      "\u001b[31m   WARNING: This is a development server. Do not use it in a production deployment.\u001b[0m\n",
      "\u001b[2m   Use a production WSGI server instead.\u001b[0m\n",
      " * Debug mode: off\n"
     ]
    },
    {
     "name": "stderr",
     "output_type": "stream",
     "text": [
      " * Running on http://127.0.0.1:5000/ (Press CTRL+C to quit)\n"
     ]
    }
   ],
   "source": [
    "import gzip, dill\n",
    "from flask import Flask, request, render_template, redirect\n",
    "app = Flask(__name__) \n",
    "@app.route('/')\n",
    "def main():\n",
    "    return redirect('/index')\n",
    "@app.route('/index', methods=['GET'])\n",
    "def index():\n",
    "    return render_template('index.html')\n",
    "@app.route('/about')\n",
    "def about():\n",
    "    return \"this is page is all about my ML model\"\n",
    "@app.route('/predict', methods=['GET', 'POST'])\n",
    "def predict():\n",
    "    if request.method == 'GET':\n",
    "        tweet = request.args.get('tweet')\n",
    "    else:\n",
    "        tweet = request.form['text']\n",
    "    \n",
    "    with gzip.open(\"model.dill.gz\", 'rb') as f:\n",
    "        model = dill.load(f)\n",
    "        \n",
    "    proba = model.predict_proba([tweet])[0,1] #it's will return two columns, index 0 is negative index 1 is positive\n",
    "    return \"positive sentiment: {}\".format(proba)\n",
    "    \n",
    "    \n",
    "if __name__ == '__main__':\n",
    "    app.run()"
   ]
  },
  {
   "cell_type": "code",
   "execution_count": null,
   "id": "1d5595c2",
   "metadata": {},
   "outputs": [],
   "source": []
  }
 ],
 "metadata": {
  "kernelspec": {
   "display_name": "Python 3 (ipykernel)",
   "language": "python",
   "name": "python3"
  },
  "language_info": {
   "codemirror_mode": {
    "name": "ipython",
    "version": 3
   },
   "file_extension": ".py",
   "mimetype": "text/x-python",
   "name": "python",
   "nbconvert_exporter": "python",
   "pygments_lexer": "ipython3",
   "version": "3.9.12"
  }
 },
 "nbformat": 4,
 "nbformat_minor": 5
}
